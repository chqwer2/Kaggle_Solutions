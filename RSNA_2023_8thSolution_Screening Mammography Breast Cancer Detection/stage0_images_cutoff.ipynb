{
 "cells": [
  {
   "cell_type": "code",
   "execution_count": 1,
   "metadata": {},
   "outputs": [],
   "source": [
    "from concurrent.futures import ProcessPoolExecutor\n",
    "import cv2\n",
    "import glob\n",
    "import numpy as np\n",
    "from tqdm import tqdm\n",
    "import os\n",
    "from PIL import Image\n",
    "import matplotlib.pyplot as plt\n",
    "import re\n",
    "DEBUG = False\n",
    "\n",
    "data_dir = '../input/images_gpugen/vindr_1536_16bit_2' # data folder\n",
    "output_dir = \"../input/images_gpugen/vindr_1536896_16bit_2_cutoff\" # output folder\n",
    "os.makedirs(output_dir, exist_ok=True)"
   ]
  },
  {
   "cell_type": "code",
   "execution_count": 2,
   "metadata": {},
   "outputs": [],
   "source": [
    "def crop_image(fname):\n",
    "    X = cv2.imread(fname, cv2.IMREAD_ANYDEPTH) # 16bit\n",
    "    # X = cv2.imread(fname) # 8bit\n",
    "    if X.ndim == 2:\n",
    "        X = np.repeat(X[:, :, np.newaxis], 3, axis=-1)\n",
    "    \n",
    "    # Some images have narrow exterior \"frames\" that complicate selection of the main data. Cutting off the frame\n",
    "    X = X[5:-5, 5:-5]\n",
    "    \n",
    "    choose_X = (X > 5140).astype(np.uint8)[:, :, 0]\n",
    "    # choose_X = (X > 20).astype(np.uint8)[:, :, 0]\n",
    "    \n",
    "    output= cv2.connectedComponentsWithStats(\n",
    "        choose_X, # image: 一个二值化图像，黑色为背景，白色为前景\n",
    "        8, # 一个整数，表示连通域的连接方式，可以是4或8\n",
    "        cv2.CV_32S # 表示输出图像的数据类型，可以是cv2.CV_32S或cv2.CV_16U\n",
    "        )\n",
    "\n",
    "    # stats.shape == (N, 5), where N is the number of regions, 5 dimensions correspond to:\n",
    "    # left, top, width, height, area_size\n",
    "    stats = output[2]\n",
    "\n",
    "    # finding max area which always corresponds to the breast data. \n",
    "    idx = stats[1:, 4].argmax() + 1\n",
    "    x1, y1, w, h = stats[idx][:4]\n",
    "    x2 = x1 + w\n",
    "    y2 = y1 + h\n",
    "    \n",
    "    # cutting out the breast data\n",
    "    X_fit = X[y1: y2, x1: x2]\n",
    "\n",
    "    # save\n",
    "    fname_list = fname.replace(\".png\", \"\").split(\"/\")\n",
    "    patient_id, im_id = fname_list[-1].split(\"_\")[0], fname_list[-1].split(\"_\")[1]\n",
    "    os.makedirs(f'{output_dir}/{patient_id}', exist_ok=True)\n",
    "    cv2.imwrite(f'{output_dir}/{patient_id}/{im_id}.png', X_fit[:, :, 0])\n",
    "\n",
    "def fit_all_images(all_images):\n",
    "    with ProcessPoolExecutor(4) as p:\n",
    "        for i in tqdm(p.map(crop_image, all_images), total=len(all_images)):\n",
    "            pass"
   ]
  },
  {
   "cell_type": "code",
   "execution_count": null,
   "metadata": {},
   "outputs": [],
   "source": [
    "all_images = glob.glob(f'{data_dir}/*')\n",
    "print(f\"all_images: {len(all_images)}\")\n",
    "\n",
    "if DEBUG:\n",
    "    all_images = np.random.choice(all_images, size=100)\n",
    "fit_all_images(all_images)"
   ]
  },
  {
   "cell_type": "code",
   "execution_count": 4,
   "metadata": {},
   "outputs": [],
   "source": [
    "assert len(all_images) == len(glob.glob(f'{output_dir}/*/*')) == 20000, f\"Something went wrong, {len(all_images)} != {len(glob.glob(f'{output_dir}/*/*'))} \""
   ]
  },
  {
   "cell_type": "code",
   "execution_count": null,
   "metadata": {},
   "outputs": [],
   "source": []
  }
 ],
 "metadata": {
  "kernelspec": {
   "display_name": "py37",
   "language": "python",
   "name": "python3"
  },
  "language_info": {
   "codemirror_mode": {
    "name": "ipython",
    "version": 3
   },
   "file_extension": ".py",
   "mimetype": "text/x-python",
   "name": "python",
   "nbconvert_exporter": "python",
   "pygments_lexer": "ipython3",
   "version": "3.7.11"
  },
  "orig_nbformat": 4,
  "vscode": {
   "interpreter": {
    "hash": "d1f74254971ba6808fd145058d3af304d2496d72bd6eb4eea168933fe142b30a"
   }
  }
 },
 "nbformat": 4,
 "nbformat_minor": 2
}
